{
 "cells": [
  {
   "cell_type": "markdown",
   "id": "2e227f0d",
   "metadata": {},
   "source": [
    "# Baskerville HPC CO2 emissions"
   ]
  },
  {
   "cell_type": "markdown",
   "id": "3566041c",
   "metadata": {},
   "source": [
    "Some numbers for comparison throughout:\n",
    "- The average yearly CO2 emissions for one person in the UK is .\n",
    "- One flight from Paris to London is about 50 kgCO2e (0.05 tonnes)[2].\n",
    "- One flight from New York to San Francisco is about 570 kgCO2e (0.57 tonnes)[2].\n",
    "- One flight from New York to Melbourne is about 2 310 kgCO2e (2.31 tonnes)[2].\n",
    "\n",
    "1. https://ourworldindata.org/co2/country/united-kingdom\n",
    "2. https://advanced.onlinelibrary.wiley.com/doi/10.1002/advs.202100707"
   ]
  },
  {
   "cell_type": "code",
   "execution_count": 1,
   "id": "129f8e06",
   "metadata": {},
   "outputs": [],
   "source": [
    "import pandas as pd\n",
    "import yaml\n",
    "\n",
    "from src.energy import get_energy_cpu, get_energy_gpu, get_energy_mem\n",
    "from src.ci_calculator import CarbonIntensityCalculator"
   ]
  },
  {
   "cell_type": "markdown",
   "id": "12acf92c",
   "metadata": {},
   "source": [
    "## Load data"
   ]
  },
  {
   "cell_type": "code",
   "execution_count": 2,
   "id": "3a4a841b",
   "metadata": {},
   "outputs": [],
   "source": [
    "# load Baskerville usage data\n",
    "data = pd.read_csv(\"./data/Baskerville_total_commas.csv\")\n",
    "data[\"End Time\"] = pd.to_datetime(data[\"End Time\"])\n",
    "\n",
    "# load Baskerville HPC config\n",
    "cluster_info = yaml.safe_load(open(\"./data/hpc_config.yaml\"))"
   ]
  },
  {
   "cell_type": "code",
   "execution_count": 3,
   "id": "e20e903a",
   "metadata": {},
   "outputs": [],
   "source": [
    "# for aggregating by month/year\n",
    "data[\"YYYY-MM\"] = data[\"End Time\"].apply(lambda x: x.strftime(\"%Y-%m\"))\n",
    "data[\"YYYY\"] = data[\"End Time\"].apply(lambda x: x.strftime(\"%Y\"))"
   ]
  },
  {
   "cell_type": "markdown",
   "id": "df0f3642",
   "metadata": {},
   "source": [
    "## Calculate energies"
   ]
  },
  {
   "cell_type": "code",
   "execution_count": 4,
   "id": "037923d5",
   "metadata": {},
   "outputs": [],
   "source": [
    "# calculate energies\n",
    "data[\"E_cpu\"] = data.apply(axis=1, func=get_energy_cpu, cluster_info=cluster_info) \n",
    "data[\"E_gpu\"] = data.apply(axis=1, func=get_energy_gpu, cluster_info=cluster_info)\n",
    "data[\"E_mem\"] = data.apply(axis=1, func=get_energy_mem, cluster_info=cluster_info)\n",
    "data[\"E_total_compute\"] = data[\"E_cpu\"] + data[\"E_gpu\"] + data[\"E_mem\"]\n",
    "data[\"E_total\"] = data[\"E_total_compute\"] * cluster_info[\"PUE\"] # PUE is ratio, still in kWh"
   ]
  },
  {
   "cell_type": "code",
   "execution_count": 5,
   "id": "f42ab929",
   "metadata": {},
   "outputs": [
    {
     "data": {
      "text/plain": [
       "<Axes: title={'center': 'Baskerville Energy Usage'}, xlabel='Year', ylabel='kWh'>"
      ]
     },
     "execution_count": 5,
     "metadata": {},
     "output_type": "execute_result"
    },
    {
     "data": {
      "image/png": "[encoded data removed]",
      "text/plain": [
       "<Figure size 1000x500 with 1 Axes>"
      ]
     },
     "metadata": {},
     "output_type": "display_data"
    }
   ],
   "source": [
    "data.groupby(\"YYYY\")[\"E_total_compute\"].sum().plot(\n",
    "    kind=\"bar\", \n",
    "    title=\"Baskerville Energy Usage\", \n",
    "    ylabel=\"kWh\", \n",
    "    xlabel=\"Year\", \n",
    "    figsize=(10,5)\n",
    ")"
   ]
  },
  {
   "cell_type": "markdown",
   "id": "bcf6d417",
   "metadata": {},
   "source": [
    "## Calculate emissions using yearly average carbon intensity"
   ]
  },
  {
   "cell_type": "code",
   "execution_count": 6,
   "id": "f21bf143",
   "metadata": {},
   "outputs": [],
   "source": [
    "data[\"CO2_total_g\"] = data[\"E_total\"] * 124 # UK average 2024"
   ]
  },
  {
   "cell_type": "code",
   "execution_count": 7,
   "id": "b3c66b68",
   "metadata": {},
   "outputs": [],
   "source": [
    "data.to_csv(\"./data/Baskerville_ci_average_2024.csv\")"
   ]
  },
  {
   "cell_type": "code",
   "execution_count": 8,
   "id": "b6cd0e64",
   "metadata": {},
   "outputs": [
    {
     "name": "stdout",
     "output_type": "stream",
     "text": [
      "All time CO2 emissions using UK average CI (Scope 2): 36.89 tonnes\n"
     ]
    }
   ],
   "source": [
    "print(f\"All time CO2 emissions using UK average CI (Scope 2): {data['CO2_total_g'].sum() / 1e6 :.2f} tonnes\") # in tonnes CO2"
   ]
  },
  {
   "cell_type": "code",
   "execution_count": 9,
   "id": "b178b1ec",
   "metadata": {},
   "outputs": [
    {
     "name": "stdout",
     "output_type": "stream",
     "text": [
      "Past 12 months CO2 emissions using UK average CI (Scope 2): 10.33 tonnes\n"
     ]
    }
   ],
   "source": [
    "print(f\"Past 12 months CO2 emissions using UK average CI (Scope 2): {data.groupby('YYYY-MM')['CO2_total_g'].sum()['2024-09':].sum() / 1e6 :.2f} tonnes\") # in tonnes CO2"
   ]
  },
  {
   "cell_type": "code",
   "execution_count": 10,
   "id": "0eebf198",
   "metadata": {},
   "outputs": [
    {
     "data": {
      "text/plain": [
       "{'2021': 0.06866475645335667,\n",
       " '2022': 12.388619013547075,\n",
       " '2023': 10.388377664503059,\n",
       " '2024': 6.275045044115875,\n",
       " '2025': 7.77276229785528}"
      ]
     },
     "execution_count": 10,
     "metadata": {},
     "output_type": "execute_result"
    }
   ],
   "source": [
    "data.groupby(\"YYYY\")[\"CO2_total_g\"].sum().apply(lambda x: x / 1e6).to_dict() # in tonnes CO2"
   ]
  },
  {
   "cell_type": "markdown",
   "id": "63186ca5",
   "metadata": {},
   "source": [
    "## Calculate emissions using daily average carbon intensity"
   ]
  },
  {
   "cell_type": "code",
   "execution_count": 11,
   "id": "47af2538",
   "metadata": {},
   "outputs": [
    {
     "name": "stdout",
     "output_type": "stream",
     "text": [
      "Failed to get carbon intensity for 2023-10-21 17:17:13+00:00 from the API. Using UK average: 124 gCO2e/kWh. Error: list index out of range\n",
      "Failed to get carbon intensity for 2023-10-21 18:18:24+00:00 from the API. Using UK average: 124 gCO2e/kWh. Error: list index out of range\n"
     ]
    }
   ],
   "source": [
    "# calculate daily average CI for each job\n",
    "ci_calculator = CarbonIntensityCalculator()\n",
    "data[\"CI\"] = ci_calculator.get_carbon_intensity(data[\"End Time\"])"
   ]
  },
  {
   "cell_type": "code",
   "execution_count": 12,
   "id": "df589873",
   "metadata": {},
   "outputs": [],
   "source": [
    "data[\"CO2_total_g\"] = data[\"E_total\"] * data[\"CI\"] # daily average"
   ]
  },
  {
   "cell_type": "code",
   "execution_count": 13,
   "id": "c84f8976",
   "metadata": {},
   "outputs": [],
   "source": [
    "data.to_csv(\"./data/Baskerville_ci_daily_ci.csv\")"
   ]
  },
  {
   "cell_type": "code",
   "execution_count": 14,
   "id": "97f0d1ac",
   "metadata": {},
   "outputs": [
    {
     "name": "stdout",
     "output_type": "stream",
     "text": [
      "All time CO2 emissions using daily average CI (Scope 2): 41.18 tonnes\n"
     ]
    }
   ],
   "source": [
    "print(f\"All time CO2 emissions using daily average CI (Scope 2): {data['CO2_total_g'].sum() / 1e6 :.2f} tonnes\") # in tonnes CO2"
   ]
  },
  {
   "cell_type": "code",
   "execution_count": 15,
   "id": "66a793f6",
   "metadata": {},
   "outputs": [
    {
     "name": "stdout",
     "output_type": "stream",
     "text": [
      "Past 12 months CO2 emissions using daily average CI (Scope 2): 8.97 tonnes\n"
     ]
    }
   ],
   "source": [
    "print(f\"Past 12 months CO2 emissions using daily average CI (Scope 2): {data.groupby('YYYY-MM')['CO2_total_g'].sum()['2024-09':].sum() / 1e6 :.2f} tonnes\") # in tonnes CO2"
   ]
  },
  {
   "cell_type": "code",
   "execution_count": 16,
   "id": "2f7b0ff4",
   "metadata": {},
   "outputs": [
    {
     "data": {
      "text/plain": [
       "{'2021': 0.13404716834555,\n",
       " '2022': 17.996329041632286,\n",
       " '2023': 10.975992414555453,\n",
       " '2024': 5.077791925809139,\n",
       " '2025': 6.9971474995583645}"
      ]
     },
     "execution_count": 16,
     "metadata": {},
     "output_type": "execute_result"
    }
   ],
   "source": [
    "yearly_averages = data.groupby(\"YYYY\")[\"CO2_total_g\"].sum() / 1e6 # in tonnes CO2\n",
    "yearly_averages = yearly_averages.to_dict()\n",
    "\n",
    "yearly_averages"
   ]
  },
  {
   "cell_type": "code",
   "execution_count": 17,
   "id": "f34820db",
   "metadata": {},
   "outputs": [
    {
     "data": {
      "text/plain": [
       "<Axes: title={'center': 'Baskerville Yearly Emissions'}, xlabel='Year', ylabel='tonnes CO2e'>"
      ]
     },
     "execution_count": 17,
     "metadata": {},
     "output_type": "execute_result"
    },
    {
     "data": {
      "image/png": "[encoded data removed]",
      "text/plain": [
       "<Figure size 1000x500 with 1 Axes>"
      ]
     },
     "metadata": {},
     "output_type": "display_data"
    }
   ],
   "source": [
    "data.groupby(\"YYYY\")[\"CO2_total_g\"].sum().apply(lambda x: x/1e6).plot(\n",
    "    kind=\"bar\", \n",
    "    title=\"Baskerville Yearly Emissions\", \n",
    "    ylabel=\"tonnes CO2e\", \n",
    "    xlabel=\"Year\", \n",
    "    figsize=(10,5)\n",
    ")"
   ]
  },
  {
   "cell_type": "code",
   "execution_count": null,
   "id": "84952b5c",
   "metadata": {},
   "outputs": [],
   "source": []
  }
 ],
 "metadata": {
  "kernelspec": {
   "display_name": "greenhpc",
   "language": "python",
   "name": "python3"
  },
  "language_info": {
   "codemirror_mode": {
    "name": "ipython",
    "version": 3
   },
   "file_extension": ".py",
   "mimetype": "text/x-python",
   "name": "python",
   "nbconvert_exporter": "python",
   "pygments_lexer": "ipython3",
   "version": "3.12.0"
  }
 },
 "nbformat": 4,
 "nbformat_minor": 5
}
