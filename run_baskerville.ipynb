{
 "cells": [
  {
   "cell_type": "code",
   "execution_count": null,
   "id": "129f8e06",
   "metadata": {},
   "outputs": [],
   "source": [
    "import yaml\n",
    "import pandas as pd"
   ]
  },
  {
   "cell_type": "code",
   "execution_count": null,
   "id": "828a1b77",
   "metadata": {},
   "outputs": [],
   "source": [
    "def get_energy_cpu(row, cluster_info):\n",
    "\t\"\"\"Calculate CPU energy consumption in kWh.\"\"\"\n",
    "\tconstraints = row[\"Constraints\"]\n",
    "\tif pd.isna(constraints):\n",
    "\t\ttdp_w = float(cluster_info[\"partitions\"][\"baskerville-all\"][\"TDP_CPU\"])\n",
    "\telse:\n",
    "\t\ttdp_w = float(cluster_info[\"partitions\"][f\"baskerville-{constraints}\"][\"TDP_CPU\"])\n",
    "\tenergy_kwh = (row[\"Run Time (sec)\"] / 3600) * row[\"Number of cores\"] * (tdp_w / 1000) #kWh \n",
    "\treturn energy_kwh\n",
    "\n",
    "def get_energy_gpu(row, cluster_info):\n",
    "\t\"\"\"Calculate GPU energy consumption in kWh.\"\"\"\n",
    "\tconstraints = row[\"Constraints\"]\n",
    "\tif pd.isna(constraints):\n",
    "\t\ttdp_w = float(cluster_info[\"partitions\"][\"baskerville-all\"][\"TDP\"])\n",
    "\telse:\n",
    "\t\ttdp_w = float(cluster_info[\"partitions\"][f\"baskerville-{constraints}\"][\"TDP\"])\n",
    "\tenergy_kwh = (row[\"Run Time (sec)\"] / 3600) * row[\"Number of GPU\"] * (tdp_w / 1000) #kWh\n",
    "\treturn energy_kwh\n",
    "\n",
    "def get_energy_mem(row, cluster_info):\n",
    "\t\"\"\"Calculate memory energy consumption in kWh.\"\"\"\n",
    "\tpower_memory_perGB=0.3725 # W/GB\n",
    "\tenergy_kwh = (row[\"Run Time (sec)\"] / 3600) * row[\"Memory (GB)\"] * (power_memory_perGB / 1000) #kWh\n",
    "\treturn energy_kwh"
   ]
  },
  {
   "cell_type": "code",
   "execution_count": null,
   "id": "3a4a841b",
   "metadata": {},
   "outputs": [],
   "source": [
    "data = pd.read_csv(\"./data/Baskerville_total_commas.csv\")\n",
    "data[\"End Time\"] = pd.to_datetime(data[\"End Time\"])\n",
    "\n",
    "cluster_info = yaml.safe_load(open(\"./data/cluster_info.yaml\"))"
   ]
  },
  {
   "cell_type": "code",
   "execution_count": null,
   "id": "037923d5",
   "metadata": {},
   "outputs": [],
   "source": [
    "data[\"E_cpu\"] = data.apply(axis=1, func=get_energy_cpu, cluster_info=cluster_info) \n",
    "data[\"E_gpu\"] = data.apply(axis=1, func=get_energy_gpu, cluster_info=cluster_info)\n",
    "data[\"E_mem\"] = data.apply(axis=1, func=get_energy_mem, cluster_info=cluster_info)\n",
    "data[\"E_total_compute\"] = data[\"E_cpu\"] + data[\"E_gpu\"] + data[\"E_mem\"]\n",
    "\n",
    "data[\"E_total\"] = data[\"E_total_compute\"] * cluster_info[\"PUE\"] # PUE is ratio, still in kWh\n",
    "data[\"CO2_total_g\"] = data[\"E_total\"] * cluster_info[\"CI\"] # CI is 125 gCO₂/kWh, output is gCO₂"
   ]
  },
  {
   "cell_type": "code",
   "execution_count": null,
   "id": "b6cd0e64",
   "metadata": {},
   "outputs": [],
   "source": [
    "data[\"CO2_total_g\"].sum() / 1e6 # in tonnes CO2"
   ]
  },
  {
   "cell_type": "code",
   "execution_count": null,
   "id": "e20e903a",
   "metadata": {},
   "outputs": [],
   "source": [
    "data[\"YYYY-MM\"] = data[\"End Time\"].apply(lambda x: x.strftime(\"%Y-%m\"))\n",
    "data[\"YYYY\"] = data[\"End Time\"].apply(lambda x: x.strftime(\"%Y\"))"
   ]
  },
  {
   "cell_type": "code",
   "execution_count": null,
   "id": "c54079a6",
   "metadata": {},
   "outputs": [],
   "source": [
    "data.groupby(\"YYYY-MM\")[\"CO2_total_g\"].sum().plot(kind=\"bar\", title=\"Baskerville Monthly Emissions\", ylabel=\"gCO2e\", xlabel=\"Month\", figsize=(10,5))"
   ]
  },
  {
   "cell_type": "code",
   "execution_count": null,
   "id": "0eebf198",
   "metadata": {},
   "outputs": [],
   "source": [
    "data.groupby(\"YYYY\")[\"CO2_total_g\"].sum()"
   ]
  },
  {
   "cell_type": "code",
   "execution_count": null,
   "id": "f34820db",
   "metadata": {},
   "outputs": [],
   "source": [
    "data.groupby(\"YYYY\")[\"CO2_total_g\"].sum().plot(kind=\"bar\", title=\"Baskerville Yearly Emissions\", ylabel=\"gCO2e\", xlabel=\"Year\", figsize=(10,5))"
   ]
  },
  {
   "cell_type": "code",
   "execution_count": null,
   "id": "84952b5c",
   "metadata": {},
   "outputs": [],
   "source": []
  }
 ],
 "metadata": {
  "kernelspec": {
   "display_name": "mr_dev312",
   "language": "python",
   "name": "python3"
  },
  "language_info": {
   "codemirror_mode": {
    "name": "ipython",
    "version": 3
   },
   "file_extension": ".py",
   "mimetype": "text/x-python",
   "name": "python",
   "nbconvert_exporter": "python",
   "pygments_lexer": "ipython3",
   "version": "3.12.7"
  }
 },
 "nbformat": 4,
 "nbformat_minor": 5
}
