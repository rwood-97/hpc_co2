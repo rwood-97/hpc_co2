{
 "cells": [
  {
   "cell_type": "markdown",
   "id": "2e227f0d",
   "metadata": {},
   "source": [
    "# Baskerville HPC CO2 emissions"
   ]
  },
  {
   "cell_type": "code",
   "execution_count": 1,
   "id": "51b6c0cc",
   "metadata": {},
   "outputs": [],
   "source": [
    "!pip install -q pandas numpy matplotlib pyyaml"
   ]
  },
  {
   "cell_type": "code",
   "execution_count": 2,
   "id": "129f8e06",
   "metadata": {},
   "outputs": [],
   "source": [
    "import yaml\n",
    "import pandas as pd"
   ]
  },
  {
   "cell_type": "code",
   "execution_count": 3,
   "id": "828a1b77",
   "metadata": {},
   "outputs": [],
   "source": [
    "def get_energy_cpu(row, cluster_info):\n",
    "\t\"\"\"Calculate CPU energy consumption in kWh.\"\"\"\n",
    "\tconstraints = row[\"Constraints\"]\n",
    "\tif pd.isna(constraints):\n",
    "\t\ttdp_w = float(cluster_info[\"partitions\"][\"baskerville-all\"][\"TDP_CPU\"])\n",
    "\telse:\n",
    "\t\ttdp_w = float(cluster_info[\"partitions\"][f\"baskerville-{constraints}\"][\"TDP_CPU\"])\n",
    "\tenergy_kwh = (row[\"Run Time (sec)\"] / 3600) * row[\"Number of cores\"] * (tdp_w / 1000) #kWh \n",
    "\treturn energy_kwh\n",
    "\n",
    "def get_energy_gpu(row, cluster_info):\n",
    "\t\"\"\"Calculate GPU energy consumption in kWh.\"\"\"\n",
    "\tconstraints = row[\"Constraints\"]\n",
    "\tif pd.isna(constraints):\n",
    "\t\ttdp_w = float(cluster_info[\"partitions\"][\"baskerville-all\"][\"TDP\"])\n",
    "\telse:\n",
    "\t\ttdp_w = float(cluster_info[\"partitions\"][f\"baskerville-{constraints}\"][\"TDP\"])\n",
    "\tenergy_kwh = (row[\"Run Time (sec)\"] / 3600) * row[\"Number of GPU\"] * (tdp_w / 1000) #kWh\n",
    "\treturn energy_kwh\n",
    "\n",
    "def get_energy_mem(row, cluster_info):\n",
    "\t\"\"\"Calculate memory energy consumption in kWh.\"\"\"\n",
    "\tpower_memory_perGB=0.3725 # W/GB\n",
    "\tenergy_kwh = (row[\"Run Time (sec)\"] / 3600) * row[\"Memory (GB)\"] * (power_memory_perGB / 1000) #kWh\n",
    "\treturn energy_kwh"
   ]
  },
  {
   "cell_type": "code",
   "execution_count": 4,
   "id": "3a4a841b",
   "metadata": {},
   "outputs": [],
   "source": [
    "data = pd.read_csv(\"./data/Baskerville_total_commas.csv\")\n",
    "data[\"End Time\"] = pd.to_datetime(data[\"End Time\"])\n",
    "\n",
    "cluster_info = yaml.safe_load(open(\"./data/cluster_info.yaml\"))"
   ]
  },
  {
   "cell_type": "code",
   "execution_count": 5,
   "id": "037923d5",
   "metadata": {},
   "outputs": [],
   "source": [
    "data[\"E_cpu\"] = data.apply(axis=1, func=get_energy_cpu, cluster_info=cluster_info) \n",
    "data[\"E_gpu\"] = data.apply(axis=1, func=get_energy_gpu, cluster_info=cluster_info)\n",
    "data[\"E_mem\"] = data.apply(axis=1, func=get_energy_mem, cluster_info=cluster_info)\n",
    "data[\"E_total_compute\"] = data[\"E_cpu\"] + data[\"E_gpu\"] + data[\"E_mem\"]\n",
    "\n",
    "data[\"E_total\"] = data[\"E_total_compute\"] * cluster_info[\"PUE\"] # PUE is ratio, still in kWh\n",
    "data[\"CO2_total_g\"] = data[\"E_total\"] * cluster_info[\"CI\"] # CI is 125 gCO₂/kWh, output is gCO₂"
   ]
  },
  {
   "cell_type": "code",
   "execution_count": 6,
   "id": "b6cd0e64",
   "metadata": {},
   "outputs": [
    {
     "name": "stdout",
     "output_type": "stream",
     "text": [
      "All time CO2 emissions (Scope 2): 37.19099675047847 tonnes\n"
     ]
    }
   ],
   "source": [
    "print(\"All time CO2 emissions (Scope 2):\", data[\"CO2_total_g\"].sum() / 1e6, \"tonnes\") # in tonnes CO2"
   ]
  },
  {
   "cell_type": "markdown",
   "id": "3566041c",
   "metadata": {},
   "source": [
    "For comparison:\n",
    "- The average yearly CO2 emissions for one person in the UK is 4.4 tonnes[1].\n",
    "- One flight from Paris to London is about 50 kgCO2e (0.05 tonnes)[2].\n",
    "- One flight from New York to San Francisco is about 570 kgCO2e (0.57 tonnes)[2].\n",
    "- One flight from New York to Melbourne is about 2 310 kgCO2e (2.31 tonnes)[2].\n",
    "\n",
    "1. https://ourworldindata.org/co2/country/united-kingdom\n",
    "2. https://advanced.onlinelibrary.wiley.com/doi/10.1002/advs.202100707"
   ]
  },
  {
   "cell_type": "code",
   "execution_count": 7,
   "id": "e20e903a",
   "metadata": {},
   "outputs": [],
   "source": [
    "data[\"YYYY-MM\"] = data[\"End Time\"].apply(lambda x: x.strftime(\"%Y-%m\"))\n",
    "data[\"YYYY\"] = data[\"End Time\"].apply(lambda x: x.strftime(\"%Y\"))"
   ]
  },
  {
   "cell_type": "code",
   "execution_count": null,
   "id": "c54079a6",
   "metadata": {},
   "outputs": [
    {
     "data": {
      "text/plain": [
       "<Axes: title={'center': 'Baskerville Monthly Emissions'}, xlabel='Month', ylabel='tonnes CO2e'>"
      ]
     },
     "execution_count": 8,
     "metadata": {},
     "output_type": "execute_result"
    },
    {
     "data": {
      "image/png": "[encoded data removed]",
      "text/plain": [
       "<Figure size 1000x500 with 1 Axes>"
      ]
     },
     "metadata": {},
     "output_type": "display_data"
    }
   ],
   "source": [
    "data.groupby(\"YYYY-MM\")[\"CO2_total_g\"].sum().apply(lambda x: x / 1e6).plot(\n",
    "    kind=\"bar\", \n",
    "    title=\"Baskerville Monthly Emissions\", \n",
    "    ylabel=\"tonnes CO2e\", \n",
    "    xlabel=\"Month\", \n",
    "    figsize=(10,5)\n",
    ")"
   ]
  },
  {
   "cell_type": "code",
   "execution_count": 9,
   "id": "0eebf198",
   "metadata": {},
   "outputs": [
    {
     "data": {
      "text/plain": [
       "YYYY\n",
       "2021     0.069219\n",
       "2022    12.488527\n",
       "2023    10.472155\n",
       "2024     6.325650\n",
       "2025     7.835446\n",
       "Name: CO2_total_g, dtype: float64"
      ]
     },
     "execution_count": 9,
     "metadata": {},
     "output_type": "execute_result"
    }
   ],
   "source": [
    "data.groupby(\"YYYY\")[\"CO2_total_g\"].sum() / 1e6 # in tonnes CO2"
   ]
  },
  {
   "cell_type": "markdown",
   "id": "f9b968f7",
   "metadata": {},
   "source": [
    "i.e. In 2025, we emitted ~1.7 UK persons worth of CO2, ~14 flights from New York to San Francisco or ~3 flights from New York to Melbourne."
   ]
  },
  {
   "cell_type": "code",
   "execution_count": 11,
   "id": "f34820db",
   "metadata": {},
   "outputs": [
    {
     "data": {
      "text/plain": [
       "<Axes: title={'center': 'Baskerville Yearly Emissions'}, xlabel='Year', ylabel='tonnes CO2e'>"
      ]
     },
     "execution_count": 11,
     "metadata": {},
     "output_type": "execute_result"
    },
    {
     "data": {
      "image/png": "[encoded data removed]",
      "text/plain": [
       "<Figure size 1000x500 with 1 Axes>"
      ]
     },
     "metadata": {},
     "output_type": "display_data"
    }
   ],
   "source": [
    "data.groupby(\"YYYY\")[\"CO2_total_g\"].sum().apply(lambda x: x/1e6).plot(\n",
    "    kind=\"bar\", \n",
    "    title=\"Baskerville Yearly Emissions\", \n",
    "    ylabel=\"tonnes CO2e\", \n",
    "    xlabel=\"Year\", \n",
    "    figsize=(10,5)\n",
    ")"
   ]
  },
  {
   "cell_type": "code",
   "execution_count": null,
   "id": "84952b5c",
   "metadata": {},
   "outputs": [],
   "source": []
  }
 ],
 "metadata": {
  "kernelspec": {
   "display_name": "greenhpc",
   "language": "python",
   "name": "python3"
  },
  "language_info": {
   "codemirror_mode": {
    "name": "ipython",
    "version": 3
   },
   "file_extension": ".py",
   "mimetype": "text/x-python",
   "name": "python",
   "nbconvert_exporter": "python",
   "pygments_lexer": "ipython3",
   "version": "3.12.0"
  }
 },
 "nbformat": 4,
 "nbformat_minor": 5
}
