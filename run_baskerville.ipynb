{
 "cells": [
  {
   "cell_type": "markdown",
   "id": "2e227f0d",
   "metadata": {},
   "source": [
    "# Baskerville HPC CO2 emissions"
   ]
  },
  {
   "cell_type": "code",
   "execution_count": 1,
   "id": "51b6c0cc",
   "metadata": {},
   "outputs": [],
   "source": [
    "!pip install -q pandas numpy matplotlib pyyaml"
   ]
  },
  {
   "cell_type": "code",
   "execution_count": 1,
   "id": "129f8e06",
   "metadata": {},
   "outputs": [],
   "source": [
    "import yaml\n",
    "import pandas as pd\n",
    "import requests\n",
    "\n",
    "from datetime import timedelta\n",
    "import pytz"
   ]
  },
  {
   "cell_type": "code",
   "execution_count": 2,
   "id": "561bec2d",
   "metadata": {},
   "outputs": [],
   "source": [
    "## Taken from GRACE-HPC\n",
    "\n",
    "class CarbonIntensityCalculator():\n",
    "    def __init__(self):\n",
    "        self.cached_value = {}\n",
    "\n",
    "    # Function for querying the Carbon Intensity API for realtime carbon intensity data\n",
    "    def get_carbon_intensity(self, submission_times):\n",
    "        \"\"\"\n",
    "        For each job submission time, this function queries the Carbon Intensity API for the specified region\n",
    "        and returns the carbon intensity value (gCO2e/kWh) for that time. If the API fails, it falls back\n",
    "        to the UK average carbon intensity value (2024).\n",
    "\n",
    "        API documentation: https://carbon-intensity.github.io/api-definitions/#get-regional-intensity-from-to-regionid-regionid\n",
    "\n",
    "        Args:\n",
    "            submission_times (pd.Series): Series of datetime job submission timestamps ('SubmissionTime' column)\n",
    "\n",
    "        Return:\n",
    "            pd.Series: Series of carbon intensity values (gCO2e/kWh) corresponding to each job.\n",
    "        \"\"\"\n",
    "        # Define constants for the API\n",
    "        Date_format_api = \"%Y-%m-%dT%H:%MZ\"\n",
    "        \n",
    "        time_window = timedelta(days=1)   # 1 day time window for aggregated carbon intensity values\n",
    "        \n",
    "        default_CI = 124       # Average UK carbon intensity of electricity (gCO2e/kWh) - 2024 - https://www.carbonbrief.org/analysis-uks-electricity-was-cleanest-ever-in-2024/ \n",
    "\n",
    "        # Set the region for which to get carbon intensity data.\n",
    "        region_name = \"West Midlands\"\n",
    "        region_id = 8\n",
    "\n",
    "        # Loop over each job submission time and query the API \n",
    "        carbon_intensity_values = []\n",
    "        for submission_time in submission_times:\n",
    "            try:\n",
    "                # Confirm that the datetime is in UTC and timezone-aware for API compatibility \n",
    "                if submission_time.tzinfo is None:\n",
    "                    # from_utc = DateTime.tz_localize(\"Europe/London\").tz_convert(\"UTC\")\n",
    "                    from_utc = submission_time.replace(tzinfo=pytz.UTC)\n",
    "                else:\n",
    "                    # from_utc = DateTime.tz_convert(\"UTC\")\n",
    "                    from_utc = submission_time.astimezone(pytz.UTC)\n",
    "            except Exception as e:\n",
    "                print(f\"Error converting datetime {submission_time} to UTC: {e}\")\n",
    "                carbon_intensity_values.append(default_CI)\n",
    "                continue\n",
    "            \n",
    "            # Drop hours, minutes and seconds\n",
    "            from_utc = from_utc.replace(hour=0, minute=0, second=0)\n",
    "            if from_utc in self.cached_value:\n",
    "                carbon_intensity_values.append(self.cached_value[from_utc])\n",
    "                continue\n",
    "\n",
    "            to_utc = from_utc + time_window         # the end time is the start time + time window\n",
    "            from_string = from_utc.strftime(Date_format_api)\n",
    "            to_string = to_utc.strftime(Date_format_api)\n",
    "\n",
    "            # Querying the API (request) for each job\n",
    "            url = f\"https://api.carbonintensity.org.uk/regional/intensity/{from_string}/{to_string}/regionid/{region_id}\"\n",
    "            try: \n",
    "                # Make the GET request to the API \n",
    "                api_response = requests.get(url, headers={\"Accept\": \"application/json\"}, timeout=10)\n",
    "\n",
    "                # raise an error if the request was unsuccessful\n",
    "                api_response.raise_for_status()\n",
    "\n",
    "                # Parse the JSON response as JSON format \n",
    "                json_CI_response = api_response.json()\n",
    "\n",
    "                # Extract the carbon intensity value (gCO2e/kWh) from the response\n",
    "                carbon_intensity = json_CI_response[\"data\"][\"data\"][0][\"intensity\"][\"forecast\"]\n",
    "\n",
    "                # Append the value to the list\n",
    "                carbon_intensity_values.append(carbon_intensity)\n",
    "                self.cached_value[from_utc] =  carbon_intensity # Cache the value\n",
    "\n",
    "            except Exception as e:\n",
    "                # If the API request fails, use the default carbon intensity value (UK annual average)\n",
    "                print(f\"Failed to get carbon intensity for {submission_time} from the API. Using UK average: {default_CI} gCO2e/kWh. Error: {e}\")\n",
    "                carbon_intensity_values.append(default_CI)\n",
    "\n",
    "        # Return the carbon intensity values as a pandas Series with the same index as submission_times\n",
    "        return pd.Series(carbon_intensity_values, index=submission_times.index)"
   ]
  },
  {
   "cell_type": "code",
   "execution_count": 3,
   "id": "828a1b77",
   "metadata": {},
   "outputs": [],
   "source": [
    "def get_energy_cpu(row, cluster_info):\n",
    "\t\"\"\"Calculate CPU energy consumption in kWh.\"\"\"\n",
    "\tconstraints = row[\"Constraints\"]\n",
    "\tif pd.isna(constraints):\n",
    "\t\ttdp_w = float(cluster_info[\"partitions\"][\"baskerville-all\"][\"TDP_CPU\"])\n",
    "\telse:\n",
    "\t\ttdp_w = float(cluster_info[\"partitions\"][f\"baskerville-{constraints}\"][\"TDP_CPU\"])\n",
    "\tenergy_kwh = (row[\"Run Time (sec)\"] / 3600) * row[\"Number of cores\"] * (tdp_w / 1000) #kWh \n",
    "\treturn energy_kwh\n",
    "\n",
    "def get_energy_gpu(row, cluster_info):\n",
    "\t\"\"\"Calculate GPU energy consumption in kWh.\"\"\"\n",
    "\tconstraints = row[\"Constraints\"]\n",
    "\tif pd.isna(constraints):\n",
    "\t\ttdp_w = float(cluster_info[\"partitions\"][\"baskerville-all\"][\"TDP\"])\n",
    "\telse:\n",
    "\t\ttdp_w = float(cluster_info[\"partitions\"][f\"baskerville-{constraints}\"][\"TDP\"])\n",
    "\tenergy_kwh = (row[\"Run Time (sec)\"] / 3600) * row[\"Number of GPU\"] * (tdp_w / 1000) #kWh\n",
    "\treturn energy_kwh\n",
    "\n",
    "def get_energy_mem(row, cluster_info):\n",
    "\t\"\"\"Calculate memory energy consumption in kWh.\"\"\"\n",
    "\tpower_memory_perGB=0.3725 # W/GB (ref: https://github.com/GreenAlgorithms/GreenAlgorithms4HPC/blob/main/data/fixed_parameters.yaml)\n",
    "\tenergy_kwh = (row[\"Run Time (sec)\"] / 3600) * row[\"Memory (GB)\"] * (power_memory_perGB / 1000) #kWh\n",
    "\treturn energy_kwh"
   ]
  },
  {
   "cell_type": "code",
   "execution_count": 4,
   "id": "3a4a841b",
   "metadata": {},
   "outputs": [],
   "source": [
    "data = pd.read_csv(\"./data/Baskerville_total_commas.csv\")\n",
    "data[\"End Time\"] = pd.to_datetime(data[\"End Time\"])\n",
    "\n",
    "cluster_info = yaml.safe_load(open(\"./data/cluster_info.yaml\"))"
   ]
  },
  {
   "cell_type": "code",
   "execution_count": 6,
   "id": "47af2538",
   "metadata": {},
   "outputs": [],
   "source": [
    "ci_calculator = CarbonIntensityCalculator()"
   ]
  },
  {
   "cell_type": "code",
   "execution_count": 7,
   "id": "d34796ea",
   "metadata": {},
   "outputs": [
    {
     "name": "stdout",
     "output_type": "stream",
     "text": [
      "Failed to get carbon intensity for 2023-10-21 17:17:13+00:00 from the API. Using UK average: 124 gCO2e/kWh. Error: list index out of range\n",
      "Failed to get carbon intensity for 2023-10-21 18:18:24+00:00 from the API. Using UK average: 124 gCO2e/kWh. Error: list index out of range\n"
     ]
    }
   ],
   "source": [
    "data[\"CI\"] = ci_calculator.get_carbon_intensity(data[\"End Time\"])"
   ]
  },
  {
   "cell_type": "code",
   "execution_count": 8,
   "id": "037923d5",
   "metadata": {},
   "outputs": [],
   "source": [
    "data[\"E_cpu\"] = data.apply(axis=1, func=get_energy_cpu, cluster_info=cluster_info) \n",
    "data[\"E_gpu\"] = data.apply(axis=1, func=get_energy_gpu, cluster_info=cluster_info)\n",
    "data[\"E_mem\"] = data.apply(axis=1, func=get_energy_mem, cluster_info=cluster_info)\n",
    "data[\"E_total_compute\"] = data[\"E_cpu\"] + data[\"E_gpu\"] + data[\"E_mem\"]\n",
    "\n",
    "data[\"E_total\"] = data[\"E_total_compute\"] * cluster_info[\"PUE\"] # PUE is ratio, still in kWh\n",
    "data[\"CO2_total_g\"] = data[\"E_total\"] * data[\"CI\"] # CI is daily average in gCO2/kWh, output is gCO₂"
   ]
  },
  {
   "cell_type": "code",
   "execution_count": 9,
   "id": "b6cd0e64",
   "metadata": {},
   "outputs": [
    {
     "name": "stdout",
     "output_type": "stream",
     "text": [
      "All time CO2 emissions (Scope 2): 41.18130804990079 tonnes\n"
     ]
    }
   ],
   "source": [
    "print(\"All time CO2 emissions (Scope 2):\", data[\"CO2_total_g\"].sum() / 1e6, \"tonnes\") # in tonnes CO2"
   ]
  },
  {
   "cell_type": "markdown",
   "id": "3566041c",
   "metadata": {},
   "source": [
    "For comparison:\n",
    "- The average yearly CO2 emissions for one person in the UK is 4.4 tonnes[1].\n",
    "- One flight from Paris to London is about 50 kgCO2e (0.05 tonnes)[2].\n",
    "- One flight from New York to San Francisco is about 570 kgCO2e (0.57 tonnes)[2].\n",
    "- One flight from New York to Melbourne is about 2 310 kgCO2e (2.31 tonnes)[2].\n",
    "\n",
    "1. https://ourworldindata.org/co2/country/united-kingdom\n",
    "2. https://advanced.onlinelibrary.wiley.com/doi/10.1002/advs.202100707"
   ]
  },
  {
   "cell_type": "code",
   "execution_count": 13,
   "id": "e20e903a",
   "metadata": {},
   "outputs": [],
   "source": [
    "data[\"YYYY-MM\"] = data[\"End Time\"].apply(lambda x: x.strftime(\"%Y-%m\"))\n",
    "data[\"YYYY\"] = data[\"End Time\"].apply(lambda x: x.strftime(\"%Y\"))"
   ]
  },
  {
   "cell_type": "code",
   "execution_count": 14,
   "id": "c54079a6",
   "metadata": {},
   "outputs": [
    {
     "data": {
      "text/plain": [
       "<Axes: title={'center': 'Baskerville Monthly Emissions'}, xlabel='Month', ylabel='tonnes CO2e'>"
      ]
     },
     "execution_count": 14,
     "metadata": {},
     "output_type": "execute_result"
    },
    {
     "data": {
      "image/png": "[encoded data removed]",
      "text/plain": [
       "<Figure size 1000x500 with 1 Axes>"
      ]
     },
     "metadata": {},
     "output_type": "display_data"
    }
   ],
   "source": [
    "data.groupby(\"YYYY-MM\")[\"CO2_total_g\"].sum().apply(lambda x: x / 1e6).plot(\n",
    "    kind=\"bar\", \n",
    "    title=\"Baskerville Monthly Emissions\", \n",
    "    ylabel=\"tonnes CO2e\", \n",
    "    xlabel=\"Month\", \n",
    "    figsize=(10,5)\n",
    ")"
   ]
  },
  {
   "cell_type": "code",
   "execution_count": 15,
   "id": "b178b1ec",
   "metadata": {},
   "outputs": [
    {
     "data": {
      "text/plain": [
       "np.float64(8.968002079327704)"
      ]
     },
     "execution_count": 15,
     "metadata": {},
     "output_type": "execute_result"
    }
   ],
   "source": [
    "data.groupby(\"YYYY-MM\")[\"CO2_total_g\"].sum()[\"2024-09\":].sum() / 1e6 # in tonnes CO2"
   ]
  },
  {
   "cell_type": "markdown",
   "id": "f9b968f7",
   "metadata": {},
   "source": [
    "i.e. In 2025, we emitted ~2 UK persons worth of CO2 or ~4 flights from New York to Melbourne."
   ]
  },
  {
   "cell_type": "code",
   "execution_count": 16,
   "id": "0eebf198",
   "metadata": {},
   "outputs": [
    {
     "data": {
      "text/plain": [
       "YYYY\n",
       "2021     0.134047\n",
       "2022    17.996329\n",
       "2023    10.975992\n",
       "2024     5.077792\n",
       "2025     6.997147\n",
       "Name: CO2_total_g, dtype: float64"
      ]
     },
     "execution_count": 16,
     "metadata": {},
     "output_type": "execute_result"
    }
   ],
   "source": [
    "data.groupby(\"YYYY\")[\"CO2_total_g\"].sum() / 1e6 # in tonnes CO2"
   ]
  },
  {
   "cell_type": "code",
   "execution_count": 21,
   "id": "f34820db",
   "metadata": {},
   "outputs": [
    {
     "data": {
      "text/plain": [
       "<Axes: title={'center': 'Baskerville Yearly Emissions'}, xlabel='Year', ylabel='tonnes CO2e'>"
      ]
     },
     "execution_count": 21,
     "metadata": {},
     "output_type": "execute_result"
    },
    {
     "data": {
      "image/png": "[encoded data removed]",
      "text/plain": [
       "<Figure size 1000x500 with 1 Axes>"
      ]
     },
     "metadata": {},
     "output_type": "display_data"
    }
   ],
   "source": [
    "data.groupby(\"YYYY\")[\"CO2_total_g\"].sum().apply(lambda x: x/1e6).plot(\n",
    "    kind=\"bar\", \n",
    "    title=\"Baskerville Yearly Emissions\", \n",
    "    ylabel=\"tonnes CO2e\", \n",
    "    xlabel=\"Year\", \n",
    "    figsize=(10,5)\n",
    ")"
   ]
  },
  {
   "cell_type": "code",
   "execution_count": null,
   "id": "84952b5c",
   "metadata": {},
   "outputs": [],
   "source": []
  }
 ],
 "metadata": {
  "kernelspec": {
   "display_name": "greenhpc",
   "language": "python",
   "name": "python3"
  },
  "language_info": {
   "codemirror_mode": {
    "name": "ipython",
    "version": 3
   },
   "file_extension": ".py",
   "mimetype": "text/x-python",
   "name": "python",
   "nbconvert_exporter": "python",
   "pygments_lexer": "ipython3",
   "version": "3.12.0"
  }
 },
 "nbformat": 4,
 "nbformat_minor": 5
}
